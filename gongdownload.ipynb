{
  "cells": [
    {
      "cell_type": "code",
      "execution_count": 1,
      "metadata": {
        "colab": {
          "base_uri": "https://localhost:8080/"
        },
        "id": "iCvwei_1aIw7",
        "outputId": "864af817-dbd5-4d86-c742-2979d7ceef1e"
      },
      "outputs": [
        {
          "name": "stdout",
          "output_type": "stream",
          "text": [
            "Mounted at /content/drive\n"
          ]
        }
      ],
      "source": [
        "import requests\n",
        "import io\n",
        "import os\n",
        "import json\n",
        "from google.colab import drive\n",
        "\n",
        "# Connect to Google Drive\n",
        "drive.mount('/content/drive')"
      ]
    },
    {
      "cell_type": "code",
      "execution_count": null,
      "metadata": {
        "colab": {
          "base_uri": "https://localhost:8080/"
        },
        "id": "HnQIjuZeaCMf",
        "outputId": "6a85ca2e-c2fd-45e3-d705-0a68ac1f65bd"
      },
      "outputs": [],
      "source": [
        "# EXTENSIVE CALL DATA\n",
        "url = 'API_ENDPOINT_HERE/v2/calls/extensive'\n",
        "# REPLACE 'API_ENDPOINT_HERE' WITH YOUR GONG API ENDPOINT\n",
        "from_date = \"2023-06-12T02:30:00-05:00\"\n",
        "to_date = \"2023-06-13T02:30:00-05:00\"\n",
        "\n",
        "params = {\n",
        "    \"filter\": {\n",
        "    \"fromDateTime\": from_date,\n",
        "     \"toDateTime\": to_date\n",
        "    },\n",
        "    \"contentSelector\": {\n",
        "      \"context\": \"None\",\n",
        "      \"exposedFields\": {\n",
        "        \"parties\": True,\n",
        "        \"content\": {\n",
        "          \"structure\": False,\n",
        "          \"topics\": False,\n",
        "          \"trackers\": False,\n",
        "          \"trackerOccurrences\": False,\n",
        "          \"pointsOfInterest\": False\n",
        "        },\n",
        "        \"interaction\": {\n",
        "          \"speakers\": True,\n",
        "          \"video\": True,\n",
        "          \"personInteractionStats\": True,\n",
        "          \"questions\": True\n",
        "        },\n",
        "        \"collaboration\": {\n",
        "          \"publicComments\": True\n",
        "        },\n",
        "        \"media\": True\n",
        "      }\n",
        "    }\n",
        "}\n",
        "\n",
        "# AUTH: ENCODE YOUR GONG API_KEY AND API_SECRET CONCATENATED WITH A COLON \n",
        "# (E.G., 'a3n5kj2j:89472lkfjkjhf9wik') AS BASE64 AND REPLACE \"YOUR_API_KEY_HERE\" \n",
        "# WITH THE RESULTING BASE64 STRING\n",
        "headers = {\n",
        "    'Authorization': 'Basic YOUR_API_KEY_HERE',\n",
        "    \"Content-Type\": \"application/json\"\n",
        "}\n",
        "\n",
        "params = json.dumps(params)\n",
        "\n",
        "response = requests.post(url, data=params, headers=headers)\n",
        "print(response)\n",
        "print(response.json())\n",
        "calls = response.json()['calls']\n",
        "print(calls)\n"
      ]
    },
    {
      "cell_type": "code",
      "execution_count": null,
      "metadata": {
        "colab": {
          "base_uri": "https://localhost:8080/"
        },
        "id": "Fr9pPW5DvPx1",
        "outputId": "bc22bbd3-aec9-4ca6-e376-5e4727f71f9c"
      },
      "outputs": [],
      "source": [
        "\n",
        "# Create the directory if it doesn't exist\n",
        "if not os.path.exists('/content/drive/MyDrive/gong-videos'):\n",
        "    os.makedirs('/content/drive/MyDrive/gong-videos')\n",
        "\n",
        "# Loop through the calls and download the videos\n",
        "for call in calls:\n",
        "  print(call)\n",
        "\n",
        "  if 'media' in call and 'audioUrl' in call['media']:\n",
        "    # Get the audio URL\n",
        "    audio_url = call['media']['audioUrl']\n",
        "\n",
        "    # Download the video\n",
        "    response = requests.get(audio_url)\n",
        "    file_bytes = response.content\n",
        "\n",
        "    # Save the video to Google Drive\n",
        "    call_title = call['metaData']['title']\n",
        "    call_date = call['metaData']['started'].split('T')[0]\n",
        "    call_name = call_date + call_title\n",
        "    call_name = call_name.replace('/','-')\n",
        "    file_name = f'{call_name}.mp3'\n",
        "    print('file name: ', file_name)\n",
        "    with open('/content/drive/MyDrive/gong-videos/{}'.format(file_name), 'wb') as f:\n",
        "        f.write(file_bytes)\n",
        "\n",
        "  # Get the video URL\n",
        "  if 'media' in call and 'videoUrl' in call['media']:\n",
        "      video_url = call['media']['videoUrl']\n",
        "\n",
        "      # Download the video\n",
        "      response = requests.get(video_url)\n",
        "      file_bytes = response.content\n",
        "\n",
        "      # Save the video to Google Drive\n",
        "      call_title = call['metaData']['title']\n",
        "      call_date = call['metaData']['started'].split('T')[0]\n",
        "      call_name = call_date + call_title\n",
        "      call_name = call_name.replace('/','-')\n",
        "      file_name = f'{call_name}.mp4'\n",
        "      print('file name: ', file_name)\n",
        "      with open('/content/drive/MyDrive/gong-videos/{}'.format(file_name), 'wb') as f:\n",
        "          f.write(file_bytes)\n",
        "\n",
        "print('Done!')"
      ]
    }
  ],
  "metadata": {
    "colab": {
      "provenance": []
    },
    "kernelspec": {
      "display_name": "Python 3",
      "name": "python3"
    },
    "language_info": {
      "name": "python"
    }
  },
  "nbformat": 4,
  "nbformat_minor": 0
}
